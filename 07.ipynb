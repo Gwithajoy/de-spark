{
 "cells": [
  {
   "cell_type": "code",
   "execution_count": 1,
   "id": "later-pakistan",
   "metadata": {},
   "outputs": [],
   "source": [
    "from pyspark import SparkConf, SparkContext\n",
    "conf = SparkConf().setMaster(\"local\").setAppName(\"spark_sql_basic\")\n",
    "sc = SparkContext(conf=conf)"
   ]
  },
  {
   "cell_type": "code",
   "execution_count": 2,
   "id": "pending-sauce",
   "metadata": {},
   "outputs": [],
   "source": [
    "movies_rdd = sc.parallelize([\n",
    "    (1, (\"어벤져스\", \"마블\")),\n",
    "    (2, (\"슈퍼맨\", \"DC\")),\n",
    "    (3, (\"배트맨\", \"DC\")),\n",
    "    (4, (\"겨울왕국\", \"디즈니\")),\n",
    "    (5, (\"아이언맨\", \"마블\"))\n",
    "])\n",
    "\n",
    "\n",
    "attendances_rdd = sc.parallelize([\n",
    "    (1, (13934592, \"KR\")),\n",
    "    (2, (2182227,\"KR\")),\n",
    "    (3, (4226242, \"KR\")),\n",
    "    (4, (10303058, \"KR\")),\n",
    "    (5, (4300365, \"KR\"))\n",
    "])"
   ]
  },
  {
   "cell_type": "markdown",
   "id": "willing-facing",
   "metadata": {},
   "source": [
    "마블 영화 중 관객 수가 500만 이상인 영화를 가져오려면 2가지 방법이 있습니다.\n",
    "1. `Inner Join` -> `Filter By Movie`, `Filter By attendance`\n",
    "2. `Filter By Movie`, `Filter By Attendance` -> `Inner Join`"
   ]
  },
  {
   "cell_type": "code",
   "execution_count": 3,
   "id": "labeled-education",
   "metadata": {},
   "outputs": [
    {
     "data": {
      "text/plain": [
       "[(1, (('어벤져스', '마블'), (13934592, 'KR')))]"
      ]
     },
     "execution_count": 3,
     "metadata": {},
     "output_type": "execute_result"
    }
   ],
   "source": [
    "# CASE 1 : join 먼저. filter 나중에\n",
    "movie_attendance = movies_rdd.join(attendances_rdd)\n",
    "movie_attendance.filter(lambda x: x[1][0][1] == \"마블\" and x[1][1][0] > 5000000).collect()"
   ]
  },
  {
   "cell_type": "code",
   "execution_count": 4,
   "id": "sensitive-practitioner",
   "metadata": {},
   "outputs": [
    {
     "data": {
      "text/plain": [
       "[(1, (('어벤져스', '마블'), (13934592, 'KR')))]"
      ]
     },
     "execution_count": 4,
     "metadata": {},
     "output_type": "execute_result"
    }
   ],
   "source": [
    "# CASE 2 : filter 먼저, join 나중에\n",
    "filtered_movies = movies_rdd.filter(lambda x : x[1][1] == \"마블\")\n",
    "filtered_attendances = attendances_rdd.filter(lambda x : x[1][0] > 5000000)\n",
    "\n",
    "filtered_movies.join(filtered_attendances).collect()"
   ]
  },
  {
   "cell_type": "markdown",
   "id": "instant-invention",
   "metadata": {},
   "source": [
    "동일한 결과지만 filter를 먼저 수행해서 가져올 데이터를 걸러 낸 다음 join을 하는 `CASE 2`가 훨씬 효율적 입니다.\n",
    "\n",
    "**매번 이런 고민을 하기엔 너무 시간이 아깝고, 개발자 마다 성능 차이도 심합니다. Spark SQL을 이용해 보죠**"
   ]
  },
  {
   "cell_type": "markdown",
   "id": "round-headset",
   "metadata": {},
   "source": [
    "# 1. SparkSession 만들기\n",
    "- `SparkContext`에 해당하며, 새로운 스파크 어플리케이션을 만들어 준다."
   ]
  },
  {
   "cell_type": "code",
   "execution_count": 5,
   "id": "retained-belgium",
   "metadata": {},
   "outputs": [],
   "source": [
    "from pyspark.sql import SparkSession\n",
    "spark = SparkSession.builder.master(\"local\").appName(\"spark-sql\").getOrCreate()"
   ]
  },
  {
   "cell_type": "code",
   "execution_count": 6,
   "id": "voluntary-laptop",
   "metadata": {},
   "outputs": [],
   "source": [
    "movies = [\n",
    "    (1, \"어벤져스\", \"마블\", 2012, 4, 26),\n",
    "    (2, \"슈퍼맨\", \"DC\", 2013, 6, 13),\n",
    "    (3, \"배트맨\", \"DC\", 2008, 8, 6),\n",
    "    (4, \"겨울왕국\", \"디즈니\", 2014, 1, 16),\n",
    "    (5, \"아이언맨\", \"마블\", 2008, 4, 30)\n",
    "]"
   ]
  },
  {
   "cell_type": "code",
   "execution_count": 7,
   "id": "lucky-buying",
   "metadata": {},
   "outputs": [],
   "source": [
    "movie_schema = [\"id\", \"name\", \"company\", \"year\", \"month\", \"day\"]"
   ]
  },
  {
   "cell_type": "markdown",
   "id": "judicial-satin",
   "metadata": {},
   "source": [
    "# 2. 데이터 프레임 만들기"
   ]
  },
  {
   "cell_type": "code",
   "execution_count": 8,
   "id": "forbidden-guarantee",
   "metadata": {},
   "outputs": [],
   "source": [
    "# 스파크가 알아서 데이터 타입을 결정지어 줍니다. -> inferSchema=True\n",
    "df = spark.createDataFrame(data=movies, schema=movie_schema)"
   ]
  },
  {
   "cell_type": "markdown",
   "id": "rotary-technology",
   "metadata": {},
   "source": [
    "스키마의 타입 확인\n",
    "* `dtypes`"
   ]
  },
  {
   "cell_type": "code",
   "execution_count": 9,
   "id": "acting-leeds",
   "metadata": {},
   "outputs": [
    {
     "data": {
      "text/plain": [
       "[('id', 'bigint'),\n",
       " ('name', 'string'),\n",
       " ('company', 'string'),\n",
       " ('year', 'bigint'),\n",
       " ('month', 'bigint'),\n",
       " ('day', 'bigint')]"
      ]
     },
     "execution_count": 9,
     "metadata": {},
     "output_type": "execute_result"
    }
   ],
   "source": [
    "df.dtypes"
   ]
  },
  {
   "cell_type": "markdown",
   "id": "bridal-dinner",
   "metadata": {},
   "source": [
    "전체 데이터 프레임 내용 확인\n",
    "* `show()`\n",
    "* Pandas DataFrame 처럼 데이터의 내용을 출력"
   ]
  },
  {
   "cell_type": "code",
   "execution_count": 10,
   "id": "checked-assembly",
   "metadata": {},
   "outputs": [
    {
     "name": "stdout",
     "output_type": "stream",
     "text": [
      "+---+--------+-------+----+-----+---+\n",
      "| id|    name|company|year|month|day|\n",
      "+---+--------+-------+----+-----+---+\n",
      "|  1|어벤져스|   마블|2012|    4| 26|\n",
      "|  2|  슈퍼맨|     DC|2013|    6| 13|\n",
      "|  3|  배트맨|     DC|2008|    8|  6|\n",
      "|  4|겨울왕국| 디즈니|2014|    1| 16|\n",
      "|  5|아이언맨|   마블|2008|    4| 30|\n",
      "+---+--------+-------+----+-----+---+\n",
      "\n"
     ]
    }
   ],
   "source": [
    "df.show()"
   ]
  },
  {
   "cell_type": "code",
   "execution_count": 11,
   "id": "changing-butler",
   "metadata": {},
   "outputs": [
    {
     "data": {
      "text/plain": [
       "DataFrame[id: bigint, name: string, company: string, year: bigint, month: bigint, day: bigint]"
      ]
     },
     "execution_count": 11,
     "metadata": {},
     "output_type": "execute_result"
    }
   ],
   "source": [
    "df"
   ]
  },
  {
   "cell_type": "markdown",
   "id": "lyric-oregon",
   "metadata": {},
   "source": [
    "# 3. Spark SQL 사용하기\n",
    "- `createOrReplaceTempView` 함수를 이용해서 DataFrame을 table 형식으로 등록한다."
   ]
  },
  {
   "cell_type": "code",
   "execution_count": 12,
   "id": "forced-boost",
   "metadata": {},
   "outputs": [],
   "source": [
    "df.createOrReplaceTempView(\"movies\")"
   ]
  },
  {
   "cell_type": "markdown",
   "id": "qualified-serbia",
   "metadata": {},
   "source": [
    "영화 이름만 가져오기"
   ]
  },
  {
   "cell_type": "code",
   "execution_count": 13,
   "id": "institutional-nickname",
   "metadata": {},
   "outputs": [
    {
     "name": "stdout",
     "output_type": "stream",
     "text": [
      "+--------+\n",
      "|    name|\n",
      "+--------+\n",
      "|어벤져스|\n",
      "|  슈퍼맨|\n",
      "|  배트맨|\n",
      "|겨울왕국|\n",
      "|아이언맨|\n",
      "+--------+\n",
      "\n"
     ]
    }
   ],
   "source": [
    "query = \"\"\"\n",
    "SELECT name\n",
    "FROM movies\n",
    "\"\"\"\n",
    "\n",
    "# 쿼리 실행\n",
    "spark.sql(query).show()"
   ]
  },
  {
   "cell_type": "markdown",
   "id": "adjustable-momentum",
   "metadata": {},
   "source": [
    "영화 이름, 개봉 연도 가져오기"
   ]
  },
  {
   "cell_type": "code",
   "execution_count": 14,
   "id": "civilian-passing",
   "metadata": {},
   "outputs": [
    {
     "name": "stdout",
     "output_type": "stream",
     "text": [
      "+--------+----+\n",
      "|    name|year|\n",
      "+--------+----+\n",
      "|어벤져스|2012|\n",
      "|  슈퍼맨|2013|\n",
      "|  배트맨|2008|\n",
      "|겨울왕국|2014|\n",
      "|아이언맨|2008|\n",
      "+--------+----+\n",
      "\n"
     ]
    }
   ],
   "source": [
    "query = \"\"\"\n",
    "SELECT name, year\n",
    "FROM movies\n",
    "\"\"\"\n",
    "\n",
    "# 쿼리 실행\n",
    "spark.sql(query).show()"
   ]
  },
  {
   "cell_type": "markdown",
   "id": "terminal-institution",
   "metadata": {},
   "source": [
    "2010년도 이후에 개봉한 영화의 모든 정보"
   ]
  },
  {
   "cell_type": "code",
   "execution_count": 15,
   "id": "close-angola",
   "metadata": {},
   "outputs": [
    {
     "name": "stdout",
     "output_type": "stream",
     "text": [
      "+---+--------+-------+----+-----+---+\n",
      "| id|    name|company|year|month|day|\n",
      "+---+--------+-------+----+-----+---+\n",
      "|  1|어벤져스|   마블|2012|    4| 26|\n",
      "|  2|  슈퍼맨|     DC|2013|    6| 13|\n",
      "|  4|겨울왕국| 디즈니|2014|    1| 16|\n",
      "+---+--------+-------+----+-----+---+\n",
      "\n"
     ]
    }
   ],
   "source": [
    "query = \"\"\"\n",
    "SELECT *\n",
    "FROM movies\n",
    "WHERE year > 2010\n",
    "\"\"\"\n",
    "\n",
    "# 쿼리 실행\n",
    "spark.sql(query).show()"
   ]
  },
  {
   "cell_type": "markdown",
   "id": "conceptual-raising",
   "metadata": {},
   "source": [
    "마블 영화 중에 2010년도 이후에 개봉한 영화의 모든 정보"
   ]
  },
  {
   "cell_type": "code",
   "execution_count": 16,
   "id": "egyptian-bidder",
   "metadata": {},
   "outputs": [
    {
     "name": "stdout",
     "output_type": "stream",
     "text": [
      "+---+--------+-------+----+-----+---+\n",
      "| id|    name|company|year|month|day|\n",
      "+---+--------+-------+----+-----+---+\n",
      "|  1|어벤져스|   마블|2012|    4| 26|\n",
      "+---+--------+-------+----+-----+---+\n",
      "\n"
     ]
    }
   ],
   "source": [
    "query = \"\"\"\n",
    "SELECT *\n",
    "FROM movies\n",
    "WHERE year > 2010 and company='마블'\n",
    "\"\"\"\n",
    "\n",
    "# 쿼리 실행\n",
    "spark.sql(query).show()"
   ]
  },
  {
   "cell_type": "markdown",
   "id": "molecular-addiction",
   "metadata": {},
   "source": [
    "영화의 이름이 `~맨`으로 끝나는 영화의 모든 정보"
   ]
  },
  {
   "cell_type": "code",
   "execution_count": 17,
   "id": "innocent-ancient",
   "metadata": {},
   "outputs": [
    {
     "name": "stdout",
     "output_type": "stream",
     "text": [
      "+---+--------+-------+----+-----+---+\n",
      "| id|    name|company|year|month|day|\n",
      "+---+--------+-------+----+-----+---+\n",
      "|  2|  슈퍼맨|     DC|2013|    6| 13|\n",
      "|  3|  배트맨|     DC|2008|    8|  6|\n",
      "|  5|아이언맨|   마블|2008|    4| 30|\n",
      "+---+--------+-------+----+-----+---+\n",
      "\n"
     ]
    }
   ],
   "source": [
    "query = \"\"\"\n",
    "SELECT *\n",
    "FROM movies\n",
    "WHERE name like '%맨'\n",
    "\"\"\"\n",
    "\n",
    "# 쿼리 실행\n",
    "spark.sql(query).show()"
   ]
  },
  {
   "cell_type": "markdown",
   "id": "weighted-charity",
   "metadata": {},
   "source": [
    "개봉월이 4월 ~ 8월 사이인 영화의 모든 정보"
   ]
  },
  {
   "cell_type": "code",
   "execution_count": 18,
   "id": "infinite-doctor",
   "metadata": {},
   "outputs": [
    {
     "name": "stdout",
     "output_type": "stream",
     "text": [
      "+---+--------+-------+----+-----+---+\n",
      "| id|    name|company|year|month|day|\n",
      "+---+--------+-------+----+-----+---+\n",
      "|  1|어벤져스|   마블|2012|    4| 26|\n",
      "|  2|  슈퍼맨|     DC|2013|    6| 13|\n",
      "|  3|  배트맨|     DC|2008|    8|  6|\n",
      "|  5|아이언맨|   마블|2008|    4| 30|\n",
      "+---+--------+-------+----+-----+---+\n",
      "\n"
     ]
    }
   ],
   "source": [
    "query = \"\"\"\n",
    "SELECT *\n",
    "FROM movies\n",
    "WHERE month BETWEEN 4 AND 8\n",
    "\"\"\"\n",
    "\n",
    "# 쿼리 실행\n",
    "spark.sql(query).show()"
   ]
  },
  {
   "cell_type": "markdown",
   "id": "sweet-sessions",
   "metadata": {},
   "source": [
    "`id`가 3번인 영화보다 늦게 개봉한 마블영화의 모든 정보 ( 개봉 연도만 고려 )"
   ]
  },
  {
   "cell_type": "code",
   "execution_count": 19,
   "id": "diverse-vaccine",
   "metadata": {},
   "outputs": [
    {
     "name": "stdout",
     "output_type": "stream",
     "text": [
      "+---+--------+-------+----+-----+---+\n",
      "| id|    name|company|year|month|day|\n",
      "+---+--------+-------+----+-----+---+\n",
      "|  1|어벤져스|   마블|2012|    4| 26|\n",
      "+---+--------+-------+----+-----+---+\n",
      "\n"
     ]
    }
   ],
   "source": [
    "query = \"\"\"\n",
    "SELECT *\n",
    "FROM movies\n",
    "WHERE company='마블'\n",
    "  AND year > ( SELECT year FROM movies WHERE id = 3)\n",
    "\"\"\"\n",
    "\n",
    "# 쿼리 실행\n",
    "spark.sql(query).show()"
   ]
  },
  {
   "cell_type": "markdown",
   "id": "careful-coating",
   "metadata": {},
   "source": [
    "연도 내림 차순으로 모든 데이터를 정렬"
   ]
  },
  {
   "cell_type": "code",
   "execution_count": 22,
   "id": "invalid-swiss",
   "metadata": {},
   "outputs": [
    {
     "name": "stdout",
     "output_type": "stream",
     "text": [
      "+---+--------+-------+----+-----+---+\n",
      "| id|    name|company|year|month|day|\n",
      "+---+--------+-------+----+-----+---+\n",
      "|  3|  배트맨|     DC|2008|    8|  6|\n",
      "|  5|아이언맨|   마블|2008|    4| 30|\n",
      "|  1|어벤져스|   마블|2012|    4| 26|\n",
      "|  2|  슈퍼맨|     DC|2013|    6| 13|\n",
      "|  4|겨울왕국| 디즈니|2014|    1| 16|\n",
      "+---+--------+-------+----+-----+---+\n",
      "\n"
     ]
    }
   ],
   "source": [
    "query = \"\"\"\n",
    "SELECT *\n",
    "FROM movies\n",
    "ORDER BY year ASC\n",
    "\"\"\"\n",
    "\n",
    "# 쿼리 실행\n",
    "spark.sql(query).show()"
   ]
  },
  {
   "cell_type": "markdown",
   "id": "attractive-uniform",
   "metadata": {},
   "source": [
    "* `count` : 개수 세기\n",
    "* `mean` : 평균 구하기\n",
    "* `sum` : 총 합"
   ]
  },
  {
   "cell_type": "markdown",
   "id": "bulgarian-irrigation",
   "metadata": {},
   "source": [
    "DC 영화의 개수"
   ]
  },
  {
   "cell_type": "code",
   "execution_count": 23,
   "id": "treated-julian",
   "metadata": {},
   "outputs": [
    {
     "name": "stdout",
     "output_type": "stream",
     "text": [
      "+--------+\n",
      "|count(1)|\n",
      "+--------+\n",
      "|       2|\n",
      "+--------+\n",
      "\n"
     ]
    }
   ],
   "source": [
    "query = \"\"\"\n",
    "SELECT count(*)\n",
    "FROM movies\n",
    "WHERE company='DC'\n",
    "\"\"\"\n",
    "\n",
    "# 쿼리 실행\n",
    "spark.sql(query).show()"
   ]
  },
  {
   "cell_type": "markdown",
   "id": "initial-incident",
   "metadata": {},
   "source": [
    "마블과 디즈니 영화의 개수"
   ]
  },
  {
   "cell_type": "code",
   "execution_count": 25,
   "id": "diverse-jackson",
   "metadata": {},
   "outputs": [
    {
     "name": "stdout",
     "output_type": "stream",
     "text": [
      "+--------+\n",
      "|count(1)|\n",
      "+--------+\n",
      "|       3|\n",
      "+--------+\n",
      "\n"
     ]
    }
   ],
   "source": [
    "query = \"\"\"\n",
    "SELECT count(*)\n",
    "FROM movies\n",
    "WHERE company IN ('마블','디즈니')\n",
    "\"\"\"\n",
    "\n",
    "# 쿼리 실행\n",
    "spark.sql(query).show()"
   ]
  },
  {
   "cell_type": "markdown",
   "id": "metropolitan-ability",
   "metadata": {},
   "source": [
    "# Join 구현하기"
   ]
  },
  {
   "cell_type": "code",
   "execution_count": 26,
   "id": "controlling-dominant",
   "metadata": {},
   "outputs": [],
   "source": [
    "attendances = [\n",
    "    (1, 13934592., \"KR\"),\n",
    "    (2, 2182227.,\"KR\"),\n",
    "    (3, 4226242., \"KR\"),\n",
    "    (4, 10303058., \"KR\"),\n",
    "    (5, 4300365., \"KR\")\n",
    "]"
   ]
  },
  {
   "cell_type": "markdown",
   "id": "olympic-joseph",
   "metadata": {},
   "source": [
    "개발자가 직접 스키마 정의"
   ]
  },
  {
   "cell_type": "code",
   "execution_count": 28,
   "id": "metallic-abuse",
   "metadata": {},
   "outputs": [],
   "source": [
    "# 스키마 타입 불러오기\n",
    "\n",
    "# 자료형 타입 불러오기\n",
    "from pyspark.sql.types import StringType, FloatType, IntegerType\n",
    "\n",
    "# 구조를 만들기 위한 타입 불러오기(필수)\n",
    "from pyspark.sql.types import StructType, StructField"
   ]
  },
  {
   "cell_type": "code",
   "execution_count": 31,
   "id": "thick-approval",
   "metadata": {},
   "outputs": [],
   "source": [
    "# StructType : 스키마를 구성하는 모든 정보들을 묶어주는 역할\n",
    "attendances_schema = StructType([\n",
    "    StructField(\"id\", IntegerType(), True), # StructField : 컬럼의 정보를 구조화 시켜주는 역할(컬럼명, 컬럼 타입, Null 허용 여부 등....)\n",
    "    StructField(\"attendance\", FloatType(), True),\n",
    "    StructField(\"theater_country\", StringType(), True)\n",
    "])"
   ]
  },
  {
   "cell_type": "code",
   "execution_count": 33,
   "id": "auburn-playing",
   "metadata": {},
   "outputs": [
    {
     "data": {
      "text/plain": [
       "[('id', 'int'), ('attendance', 'float'), ('theater_country', 'string')]"
      ]
     },
     "execution_count": 33,
     "metadata": {},
     "output_type": "execute_result"
    }
   ],
   "source": [
    "att_df = spark.createDataFrame(data=attendances, schema=attendances_schema)\n",
    "att_df.dtypes"
   ]
  },
  {
   "cell_type": "code",
   "execution_count": 34,
   "id": "cleared-little",
   "metadata": {},
   "outputs": [],
   "source": [
    "att_df.createOrReplaceTempView(\"att\")"
   ]
  },
  {
   "cell_type": "code",
   "execution_count": 35,
   "id": "correct-ebony",
   "metadata": {},
   "outputs": [
    {
     "name": "stdout",
     "output_type": "stream",
     "text": [
      "+---+--------+-------+----+-----+---+---+-----------+---------------+\n",
      "| id|    name|company|year|month|day| id| attendance|theater_country|\n",
      "+---+--------+-------+----+-----+---+---+-----------+---------------+\n",
      "|  5|아이언맨|   마블|2008|    4| 30|  5|  4300365.0|             KR|\n",
      "|  1|어벤져스|   마블|2012|    4| 26|  1|1.3934592E7|             KR|\n",
      "|  3|  배트맨|     DC|2008|    8|  6|  3|  4226242.0|             KR|\n",
      "|  2|  슈퍼맨|     DC|2013|    6| 13|  2|  2182227.0|             KR|\n",
      "|  4|겨울왕국| 디즈니|2014|    1| 16|  4|1.0303058E7|             KR|\n",
      "+---+--------+-------+----+-----+---+---+-----------+---------------+\n",
      "\n"
     ]
    }
   ],
   "source": [
    "query = \"\"\"\n",
    "SELECT *\n",
    "FROM movies\n",
    "JOIN att ON movies.id = att.id\n",
    "\"\"\"\n",
    "\n",
    "spark.sql(query).show()"
   ]
  },
  {
   "cell_type": "code",
   "execution_count": 36,
   "id": "strategic-research",
   "metadata": {},
   "outputs": [],
   "source": [
    "spark.stop()\n",
    "sc.stop()"
   ]
  },
  {
   "cell_type": "code",
   "execution_count": null,
   "id": "recent-prototype",
   "metadata": {},
   "outputs": [],
   "source": []
  },
  {
   "cell_type": "code",
   "execution_count": null,
   "id": "divided-expansion",
   "metadata": {},
   "outputs": [],
   "source": []
  }
 ],
 "metadata": {
  "kernelspec": {
   "display_name": "Python 3",
   "language": "python",
   "name": "python3"
  },
  "language_info": {
   "codemirror_mode": {
    "name": "ipython",
    "version": 3
   },
   "file_extension": ".py",
   "mimetype": "text/x-python",
   "name": "python",
   "nbconvert_exporter": "python",
   "pygments_lexer": "ipython3",
   "version": "3.7.10"
  }
 },
 "nbformat": 4,
 "nbformat_minor": 5
}
