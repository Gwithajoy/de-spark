{
 "cells": [
  {
   "cell_type": "code",
   "execution_count": 1,
   "id": "documented-metro",
   "metadata": {},
   "outputs": [],
   "source": [
    "from pyspark import SparkConf, SparkContext\n",
    "\n",
    "conf = SparkConf().setMaster(\"local\").setAppName(\"reduction-op\")\n",
    "sc = SparkContext(conf=conf)"
   ]
  },
  {
   "cell_type": "markdown",
   "id": "abroad-kinase",
   "metadata": {},
   "source": [
    "### Reduce\n",
    "* `RDD.reduce(<task>)`\n",
    "* 사용자가 지정하는 함수를 받아 여러 개의 값을 하나로 줄여줍니다."
   ]
  },
  {
   "cell_type": "code",
   "execution_count": 2,
   "id": "international-montana",
   "metadata": {},
   "outputs": [],
   "source": [
    "from operator import add"
   ]
  },
  {
   "cell_type": "code",
   "execution_count": 3,
   "id": "addressed-collector",
   "metadata": {},
   "outputs": [
    {
     "data": {
      "text/plain": [
       "15"
      ]
     },
     "execution_count": 3,
     "metadata": {},
     "output_type": "execute_result"
    }
   ],
   "source": [
    "sample_rdd = sc.parallelize([1, 2, 3, 4, 5]).reduce(add)\n",
    "sample_rdd"
   ]
  },
  {
   "cell_type": "markdown",
   "id": "convenient-hebrew",
   "metadata": {},
   "source": [
    "#### 파티션에 따라 결과물이 달라집니다.\n",
    "분산된 파티션들의 연산과 합치는 부분을 나눠서 생각해야 합니다."
   ]
  },
  {
   "cell_type": "markdown",
   "id": "contained-intersection",
   "metadata": {},
   "source": [
    "```python\n",
    "lambda x, y : (x * 2) + y\n",
    "```"
   ]
  },
  {
   "cell_type": "code",
   "execution_count": 4,
   "id": "convinced-denial",
   "metadata": {},
   "outputs": [
    {
     "data": {
      "text/plain": [
       "26"
      ]
     },
     "execution_count": 4,
     "metadata": {},
     "output_type": "execute_result"
    }
   ],
   "source": [
    "sc.parallelize([1, 2, 3, 4]).reduce(lambda x, y : (x * 2) + y)"
   ]
  },
  {
   "cell_type": "markdown",
   "id": "direct-forwarding",
   "metadata": {},
   "source": [
    "|x|y|(x * 2) + y|\n",
    "|:--:|:--:|:--:|\n",
    "|1|2|(1 * 2) + 2 = 4|\n",
    "|4|3|(4 * 2) + 3 = 11|\n",
    "|11|4|(11 * 2) + 4 = 26|"
   ]
  },
  {
   "cell_type": "code",
   "execution_count": 5,
   "id": "basic-estonia",
   "metadata": {},
   "outputs": [
    {
     "data": {
      "text/plain": [
       "26"
      ]
     },
     "execution_count": 5,
     "metadata": {},
     "output_type": "execute_result"
    }
   ],
   "source": [
    "# 파티션을 1개 지정 직접 하기\n",
    "sc.parallelize([1, 2, 3, 4], 1).reduce(lambda x, y : (x * 2) + y)"
   ]
  },
  {
   "cell_type": "code",
   "execution_count": 6,
   "id": "nervous-field",
   "metadata": {},
   "outputs": [
    {
     "data": {
      "text/plain": [
       "18"
      ]
     },
     "execution_count": 6,
     "metadata": {},
     "output_type": "execute_result"
    }
   ],
   "source": [
    "# 파티션 2개로 직접 지정\n",
    "sc.parallelize([1, 2, 3, 4], 2).reduce(lambda x, y : (x * 2) + y)"
   ]
  },
  {
   "cell_type": "markdown",
   "id": "annual-senegal",
   "metadata": {},
   "source": [
    "|p1_x|p1_y|(x * 2) + y|\n",
    "|:--:|:--:|:--:|\n",
    "|1|2|(1 * 2) + 2 = 4|\n",
    "\n",
    "|p2_x|p2_y|(x * 2) + y|\n",
    "|:--:|:--:|:--:|\n",
    "|3|4|(3 * 2) + 4 = 10|\n",
    "\n",
    "|p1_result|p2_result|(x * 2) + y|\n",
    "|:--:|:--:|:--:|\n",
    "|4|10|(4 * 2) + 10 = 18|"
   ]
  },
  {
   "cell_type": "code",
   "execution_count": 7,
   "id": "gentle-statistics",
   "metadata": {},
   "outputs": [
    {
     "data": {
      "text/plain": [
       "18"
      ]
     },
     "execution_count": 7,
     "metadata": {},
     "output_type": "execute_result"
    }
   ],
   "source": [
    "sc.parallelize([1, 2, 3, 4], 3).reduce(lambda x, y : (x * 2) + y)"
   ]
  },
  {
   "cell_type": "markdown",
   "id": "champion-silence",
   "metadata": {},
   "source": [
    "**파티션에 데이터가 하나만 있으면 reduce가 안됩니다.**\n",
    "\n",
    "|p1_x|p1_y|p1_result|\n",
    "|:--:|:--:|:--:|\n",
    "|1|0|1|\n",
    "\n",
    "|p2_x|p2_y|p2_result|\n",
    "|:--:|:--:|:--:|\n",
    "|2|0|2|\n",
    "\n",
    "|p3_x|p3_y|(x * 2) + y|\n",
    "|:--:|:--:|:--:|\n",
    "|3|4|(3 * 2) + 4 = 10|\n",
    "\n",
    "|p1_result|p2_result|(x * 2) + y|\n",
    "|:--:|:--:|:--:|\n",
    "|3|4|(1 * 2) + 2 = 4|\n",
    "\n",
    "|p1_p2_result|p3_result|(x * 2) + y|\n",
    "|:--:|:--:|:--:|\n",
    "|4|10|(4 * 2) + 10 = 18|"
   ]
  },
  {
   "cell_type": "code",
   "execution_count": 8,
   "id": "saved-indian",
   "metadata": {},
   "outputs": [
    {
     "data": {
      "text/plain": [
       "26"
      ]
     },
     "execution_count": 8,
     "metadata": {},
     "output_type": "execute_result"
    }
   ],
   "source": [
    "sc.parallelize([1, 2, 3, 4], 4).reduce(lambda x, y : (x * 2) + y)"
   ]
  },
  {
   "cell_type": "markdown",
   "id": "spiritual-bryan",
   "metadata": {},
   "source": [
    "### Fold\n",
    "* `RDD.fold(zeroValue, <func>)`\n",
    "* `reduce`와 비슷하지만, 시작값을 zeroValue에 넣어놓고 `reduce`할 수 있습니다."
   ]
  },
  {
   "cell_type": "code",
   "execution_count": 9,
   "id": "twelve-bracelet",
   "metadata": {},
   "outputs": [
    {
     "name": "stdout",
     "output_type": "stream",
     "text": [
      "24\n",
      "24\n"
     ]
    }
   ],
   "source": [
    "rdd = sc.parallelize([2, 3, 4], 4)\n",
    "\n",
    "print(rdd.reduce(lambda x, y : (x * y))) # 2 * 3 * 4\n",
    "print(rdd.fold(1, lambda x, y : (x * y))) # 1(zeroValue * zeroValue) * 2(zeroValue * 2) * 3(zeroValue * 3) * 4(zeroValue * 4)"
   ]
  },
  {
   "cell_type": "code",
   "execution_count": 10,
   "id": "dutch-running",
   "metadata": {},
   "outputs": [
    {
     "name": "stdout",
     "output_type": "stream",
     "text": [
      "9\n",
      "14\n"
     ]
    }
   ],
   "source": [
    "print(rdd.reduce(lambda x, y : x + y)) # 0 + 2 + 3 + 4\n",
    "print(rdd.fold(1, lambda x, y: x + y)) # (1+1)+(1+2)+(1+3)+(1+4) = 14 # 빈 공간의 파티션에 숫자 1이 부여 되어서 1+1이 된다."
   ]
  },
  {
   "cell_type": "markdown",
   "id": "extraordinary-blade",
   "metadata": {},
   "source": [
    "### GroupBy\n",
    "* `RDD.groupBy(<func>)`\n",
    "* 그룹핑 함수를 받아 reduction"
   ]
  },
  {
   "cell_type": "code",
   "execution_count": 12,
   "id": "comparative-jersey",
   "metadata": {},
   "outputs": [
    {
     "data": {
      "text/plain": [
       "[(0, [2, 8, 8, 8, 10, 12, 56, 56, 1236]),\n",
       " (1, [1, 1, 1, 3, 5, 5, 7, 45, 123, 123, 123, 657])]"
      ]
     },
     "execution_count": 12,
     "metadata": {},
     "output_type": "execute_result"
    }
   ],
   "source": [
    "rdd = sc.parallelize([1, 1, 2, 3, 5, 8, 10, 1,123,12,56,7,123,123,5,56,1236,8,8,45,657])\n",
    "result = rdd.groupBy(lambda x : x % 2).collect()\n",
    "sorted([(x, sorted(y)) for (x, y) in result])"
   ]
  },
  {
   "cell_type": "markdown",
   "id": "corresponding-warning",
   "metadata": {},
   "source": [
    "### Aggregate ( Action )\n",
    "* `RDD.aggregate(zeroValue, seqOp, combOp)`\n",
    "    * `zeroValue` : 각 파티션에서 누적할 시작 값\n",
    "    * `seqOp` : 타입 변경 함수. 파티션 내부에서 사용할 task\n",
    "    * `combOp` : 합치는 함수. 파티션 끼리 사용할 task\n",
    "* RDD 데이터 타입과 Action 결과 타입이 다를 경우 사용합니다.\n",
    "* 파티션 단위의 연산 결과를 합치는 과정을 거칩니다."
   ]
  },
  {
   "cell_type": "code",
   "execution_count": 13,
   "id": "conceptual-directory",
   "metadata": {},
   "outputs": [
    {
     "name": "stdout",
     "output_type": "stream",
     "text": [
      "(10, 4)\n"
     ]
    }
   ],
   "source": [
    "rdd = sc.parallelize([1, 2, 3, 4], 2)\n",
    "\n",
    "seqOp = (lambda x, y: (x[0] + y, x[1] + 1)) # 파티션 내의 연산\n",
    "combOp = (lambda x, y: (x[0] + y[0], x[1] + y[1])) # 파티션의 모든 결과를 최종 연산\n",
    "\n",
    "print(rdd.aggregate((0, 0), seqOp, combOp))"
   ]
  },
  {
   "cell_type": "markdown",
   "id": "revised-commerce",
   "metadata": {},
   "source": [
    "#### 연산 과정\n",
    "* partition 1 \n",
    "    * x = `[1, 2]`, zeroValue=`[0, 0]`\n",
    "    * `x[0]=0, x[1]=0` ( zeroValue )\n",
    "    * (`x[0] + y = 0 + 1`, `x[1] + 1 = 0 + 1`) ==> (1, 1)\n",
    "    * (`x[0] + y = 1 + 2`, `x[1] + 1 = 1 + 1`) ==> **(3, 2)**\n",
    "* partition 2\n",
    "    * x = `[3, 4]`, zeroValue=`[0, 0]`\n",
    "    * `x[0]=0, x[1]=0` ( zeroValue )\n",
    "    * (`x[0] + y = 0 + 3`, `x[1] + 1 = 0 + 1`) ==> (3, 1)\n",
    "    * (`x[0] + y = 3 + 4`, `x[1] + 1 = 1 + 1`) ==> **(7, 2)**\n",
    "\n",
    "`combOp`를 이용해 계산\n",
    "* `x = (3, 2), y = (7, 2)`\n",
    "* `(x[0] + y[0], x[1] + y[1])` = `(10, 4)`"
   ]
  },
  {
   "cell_type": "code",
   "execution_count": 14,
   "id": "stock-participant",
   "metadata": {},
   "outputs": [],
   "source": [
    "sc.stop()"
   ]
  },
  {
   "cell_type": "code",
   "execution_count": null,
   "id": "looking-turkish",
   "metadata": {},
   "outputs": [],
   "source": []
  }
 ],
 "metadata": {
  "kernelspec": {
   "display_name": "Python 3",
   "language": "python",
   "name": "python3"
  },
  "language_info": {
   "codemirror_mode": {
    "name": "ipython",
    "version": 3
   },
   "file_extension": ".py",
   "mimetype": "text/x-python",
   "name": "python",
   "nbconvert_exporter": "python",
   "pygments_lexer": "ipython3",
   "version": "3.7.10"
  }
 },
 "nbformat": 4,
 "nbformat_minor": 5
}
