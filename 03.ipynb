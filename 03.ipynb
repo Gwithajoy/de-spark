{
 "cells": [
  {
   "cell_type": "code",
   "execution_count": 1,
   "id": "turkish-shepherd",
   "metadata": {},
   "outputs": [],
   "source": [
    "from pyspark import SparkConf, SparkContext\n",
    "conf = SparkConf().setMaster(\"local\").setAppName(\"transformations_actions\")\n",
    "sc = SparkContext(conf=conf)"
   ]
  },
  {
   "cell_type": "markdown",
   "id": "serial-thought",
   "metadata": {},
   "source": [
    "# RDD 생성\n",
    "일반 파이썬의 리스트를 이용해서 RDD 생성\n",
    "* `parallelize([item1, item2, item3, ...])`"
   ]
  },
  {
   "cell_type": "code",
   "execution_count": 2,
   "id": "prescribed-vertical",
   "metadata": {},
   "outputs": [
    {
     "data": {
      "text/plain": [
       "['짜장면',\n",
       " '짬뽕',\n",
       " '마라탕',\n",
       " '떡볶이',\n",
       " '쌀국수',\n",
       " '짬뽕',\n",
       " '짜장면',\n",
       " '짜장면',\n",
       " '짬뽕',\n",
       " '마라탕',\n",
       " '라면',\n",
       " '라면',\n",
       " '우동',\n",
       " '쌀국수']"
      ]
     },
     "execution_count": 2,
     "metadata": {},
     "output_type": "execute_result"
    }
   ],
   "source": [
    "foods = sc.parallelize([\n",
    "    \"짜장면\", \"짬뽕\", \"마라탕\",\n",
    "    \"떡볶이\", \"쌀국수\",\"짬뽕\",\n",
    "    \"짜장면\", \"짜장면\", \"짬뽕\",\n",
    "    \"마라탕\", \"라면\", \"라면\",\n",
    "    \"우동\", \"쌀국수\"\n",
    "])\n",
    "foods.collect()"
   ]
  },
  {
   "cell_type": "markdown",
   "id": "careful-equilibrium",
   "metadata": {},
   "source": [
    "각 음식 별 개수 세기\n",
    "* `countByValue()`"
   ]
  },
  {
   "cell_type": "code",
   "execution_count": 3,
   "id": "original-harris",
   "metadata": {},
   "outputs": [
    {
     "data": {
      "text/plain": [
       "defaultdict(int,\n",
       "            {'짜장면': 3,\n",
       "             '짬뽕': 3,\n",
       "             '마라탕': 2,\n",
       "             '떡볶이': 1,\n",
       "             '쌀국수': 2,\n",
       "             '라면': 2,\n",
       "             '우동': 1})"
      ]
     },
     "execution_count": 3,
     "metadata": {},
     "output_type": "execute_result"
    }
   ],
   "source": [
    "foods.countByValue()"
   ]
  },
  {
   "cell_type": "markdown",
   "id": "bibliographic-collection",
   "metadata": {},
   "source": [
    "상위 `n`개의 데이터 가져오기\n",
    "* `take(n)`\n",
    "* `pandas`의 `DataFrame`의 `head`와 흡사"
   ]
  },
  {
   "cell_type": "code",
   "execution_count": 4,
   "id": "revolutionary-booth",
   "metadata": {},
   "outputs": [
    {
     "data": {
      "text/plain": [
       "['짜장면', '짬뽕', '마라탕']"
      ]
     },
     "execution_count": 4,
     "metadata": {},
     "output_type": "execute_result"
    }
   ],
   "source": [
    "foods.take(3)"
   ]
  },
  {
   "cell_type": "code",
   "execution_count": 5,
   "id": "mineral-rubber",
   "metadata": {},
   "outputs": [
    {
     "data": {
      "text/plain": [
       "['짜장면', '짬뽕', '마라탕', '떡볶이', '쌀국수', '짬뽕', '짜장면', '짜장면', '짬뽕', '마라탕']"
      ]
     },
     "execution_count": 5,
     "metadata": {},
     "output_type": "execute_result"
    }
   ],
   "source": [
    "foods.take(10)"
   ]
  },
  {
   "cell_type": "markdown",
   "id": "indonesian-leone",
   "metadata": {},
   "source": [
    "처음 1개의 데이터 가져오기\n",
    "* `first()`"
   ]
  },
  {
   "cell_type": "code",
   "execution_count": 6,
   "id": "intense-facing",
   "metadata": {},
   "outputs": [
    {
     "data": {
      "text/plain": [
       "'짜장면'"
      ]
     },
     "execution_count": 6,
     "metadata": {},
     "output_type": "execute_result"
    }
   ],
   "source": [
    "foods.first()"
   ]
  },
  {
   "cell_type": "markdown",
   "id": "sorted-postage",
   "metadata": {},
   "source": [
    "RDD 내 전체 데이터의 개수 세기\n",
    "* `count()`"
   ]
  },
  {
   "cell_type": "code",
   "execution_count": 7,
   "id": "subjective-basin",
   "metadata": {},
   "outputs": [
    {
     "data": {
      "text/plain": [
       "14"
      ]
     },
     "execution_count": 7,
     "metadata": {},
     "output_type": "execute_result"
    }
   ],
   "source": [
    "foods.count()"
   ]
  },
  {
   "cell_type": "markdown",
   "id": "activated-yorkshire",
   "metadata": {},
   "source": [
    "중복 데이터 제거\n",
    "* `distinct()`\n",
    "* `Transformation`"
   ]
  },
  {
   "cell_type": "code",
   "execution_count": 8,
   "id": "expanded-mistake",
   "metadata": {},
   "outputs": [
    {
     "data": {
      "text/plain": [
       "PythonRDD[10] at RDD at PythonRDD.scala:53"
      ]
     },
     "execution_count": 8,
     "metadata": {},
     "output_type": "execute_result"
    }
   ],
   "source": [
    "fd = foods.distinct()\n",
    "fd"
   ]
  },
  {
   "cell_type": "code",
   "execution_count": 9,
   "id": "annoying-geneva",
   "metadata": {},
   "outputs": [
    {
     "data": {
      "text/plain": [
       "['짜장면', '짬뽕', '마라탕', '떡볶이', '쌀국수', '라면', '우동']"
      ]
     },
     "execution_count": 9,
     "metadata": {},
     "output_type": "execute_result"
    }
   ],
   "source": [
    "fd.collect()"
   ]
  },
  {
   "cell_type": "code",
   "execution_count": 10,
   "id": "solar-nightmare",
   "metadata": {},
   "outputs": [
    {
     "data": {
      "text/plain": [
       "7"
      ]
     },
     "execution_count": 10,
     "metadata": {},
     "output_type": "execute_result"
    }
   ],
   "source": [
    "# 중복을 제외한 데이터 개수\n",
    "fd.count()"
   ]
  },
  {
   "cell_type": "markdown",
   "id": "dirty-juvenile",
   "metadata": {},
   "source": [
    "# Narrow Transformations\n",
    "* 1:1 변환을 의미한다.\n",
    "* 하나의 열을 조작하기 위해서 다른 열 및 파티션의 데이터를 사용하지 않는다."
   ]
  },
  {
   "cell_type": "markdown",
   "id": "foreign-progress",
   "metadata": {},
   "source": [
    "`map(<task>)`\n",
    "- 데이터를 하나씩 꺼내서 `<task>`가 적용된 새로운 RDD가 만들어 진다."
   ]
  },
  {
   "cell_type": "code",
   "execution_count": 11,
   "id": "historical-armor",
   "metadata": {},
   "outputs": [
    {
     "data": {
      "text/plain": [
       "ParallelCollectionRDD[12] at readRDDFromFile at PythonRDD.scala:274"
      ]
     },
     "execution_count": 11,
     "metadata": {},
     "output_type": "execute_result"
    }
   ],
   "source": [
    "sample_rdd = sc.parallelize([1, 2, 3])\n",
    "sample_rdd"
   ]
  },
  {
   "cell_type": "code",
   "execution_count": 12,
   "id": "moral-employment",
   "metadata": {},
   "outputs": [
    {
     "data": {
      "text/plain": [
       "PythonRDD[13] at RDD at PythonRDD.scala:53"
      ]
     },
     "execution_count": 12,
     "metadata": {},
     "output_type": "execute_result"
    }
   ],
   "source": [
    "# task 함수는 반드시 리턴이 있어야 한다.\n",
    "sample_rdd2 = sample_rdd.map(lambda x : x + 2)\n",
    "sample_rdd2"
   ]
  },
  {
   "cell_type": "code",
   "execution_count": 13,
   "id": "passing-fleet",
   "metadata": {},
   "outputs": [
    {
     "data": {
      "text/plain": [
       "[3, 4, 5]"
      ]
     },
     "execution_count": 13,
     "metadata": {},
     "output_type": "execute_result"
    }
   ],
   "source": [
    "sample_rdd2.collect()"
   ]
  },
  {
   "cell_type": "markdown",
   "id": "devoted-opera",
   "metadata": {},
   "source": [
    "`flatMap(<task>)`\n",
    "- `map` 함수와 거의 비슷하나, `flatMap`함수는 `map`의 모든 결과를 1차원 배열 형식으로 평평하게(`flat`)하게 나타낸다."
   ]
  },
  {
   "cell_type": "code",
   "execution_count": 14,
   "id": "awful-infrastructure",
   "metadata": {},
   "outputs": [],
   "source": [
    "movies = [\n",
    "    \"그린 북\",\n",
    "    \"매트릭스\",\n",
    "    \"토이 스토리\",\n",
    "    \"캐스트 어웨이\",\n",
    "    \"포드 V 페라리\",\n",
    "    \"보헤미안 랩소디\",\n",
    "    \"빽 투 더 퓨처\",\n",
    "    \"반지의 제왕\",\n",
    "    \"죽은 시인의 사회\"\n",
    "]"
   ]
  },
  {
   "cell_type": "code",
   "execution_count": 15,
   "id": "mathematical-constant",
   "metadata": {},
   "outputs": [
    {
     "data": {
      "text/plain": [
       "ParallelCollectionRDD[14] at readRDDFromFile at PythonRDD.scala:274"
      ]
     },
     "execution_count": 15,
     "metadata": {},
     "output_type": "execute_result"
    }
   ],
   "source": [
    "moviesRDD = sc.parallelize(movies)\n",
    "moviesRDD"
   ]
  },
  {
   "cell_type": "code",
   "execution_count": 16,
   "id": "streaming-entrance",
   "metadata": {},
   "outputs": [
    {
     "data": {
      "text/plain": [
       "[['그린', '북'],\n",
       " ['매트릭스'],\n",
       " ['토이', '스토리'],\n",
       " ['캐스트', '어웨이'],\n",
       " ['포드', 'V', '페라리'],\n",
       " ['보헤미안', '랩소디'],\n",
       " ['빽', '투', '더', '퓨처'],\n",
       " ['반지의', '제왕'],\n",
       " ['죽은', '시인의', '사회']]"
      ]
     },
     "execution_count": 16,
     "metadata": {},
     "output_type": "execute_result"
    }
   ],
   "source": [
    "mapMovies = moviesRDD.map(lambda x : x.split())\n",
    "mapMovies.collect()"
   ]
  },
  {
   "cell_type": "code",
   "execution_count": 17,
   "id": "suited-building",
   "metadata": {},
   "outputs": [
    {
     "data": {
      "text/plain": [
       "['그린',\n",
       " '북',\n",
       " '매트릭스',\n",
       " '토이',\n",
       " '스토리',\n",
       " '캐스트',\n",
       " '어웨이',\n",
       " '포드',\n",
       " 'V',\n",
       " '페라리',\n",
       " '보헤미안',\n",
       " '랩소디',\n",
       " '빽',\n",
       " '투',\n",
       " '더',\n",
       " '퓨처',\n",
       " '반지의',\n",
       " '제왕',\n",
       " '죽은',\n",
       " '시인의',\n",
       " '사회']"
      ]
     },
     "execution_count": 17,
     "metadata": {},
     "output_type": "execute_result"
    }
   ],
   "source": [
    "flatMovies = moviesRDD.flatMap(lambda x : x.split())\n",
    "flatMovies.collect()"
   ]
  },
  {
   "cell_type": "markdown",
   "id": "collective-terror",
   "metadata": {},
   "source": [
    "조건에 맞는 결과만 얻어내기\n",
    "* `filter(<task>)`\n",
    "* `task`의 결과가 True인 데이터만 추출된다."
   ]
  },
  {
   "cell_type": "code",
   "execution_count": 18,
   "id": "signal-arrow",
   "metadata": {},
   "outputs": [
    {
     "data": {
      "text/plain": [
       "['그린',\n",
       " '북',\n",
       " '토이',\n",
       " '스토리',\n",
       " '캐스트',\n",
       " '어웨이',\n",
       " '포드',\n",
       " 'V',\n",
       " '페라리',\n",
       " '보헤미안',\n",
       " '랩소디',\n",
       " '빽',\n",
       " '투',\n",
       " '더',\n",
       " '퓨처',\n",
       " '반지의',\n",
       " '제왕',\n",
       " '죽은',\n",
       " '시인의',\n",
       " '사회']"
      ]
     },
     "execution_count": 18,
     "metadata": {},
     "output_type": "execute_result"
    }
   ],
   "source": [
    "filteredMovie = flatMovies.filter(lambda x : x != '매트릭스')\n",
    "filteredMovie.collect()"
   ]
  },
  {
   "cell_type": "markdown",
   "id": "contained-prerequisite",
   "metadata": {},
   "source": [
    "## 집합 `Transformations`"
   ]
  },
  {
   "cell_type": "code",
   "execution_count": 19,
   "id": "palestinian-structure",
   "metadata": {},
   "outputs": [],
   "source": [
    "num1 = sc.parallelize([1, 2, 3, 4, 5])\n",
    "num2 = sc.parallelize([4, 5, 6, 7, 8, 9, 10])"
   ]
  },
  {
   "cell_type": "markdown",
   "id": "interesting-think",
   "metadata": {},
   "source": [
    "교집합 - `intersection`"
   ]
  },
  {
   "cell_type": "code",
   "execution_count": 20,
   "id": "welsh-password",
   "metadata": {},
   "outputs": [
    {
     "data": {
      "text/plain": [
       "PythonRDD[27] at RDD at PythonRDD.scala:53"
      ]
     },
     "execution_count": 20,
     "metadata": {},
     "output_type": "execute_result"
    }
   ],
   "source": [
    "intersecRDD = num1.intersection(num2)\n",
    "intersecRDD"
   ]
  },
  {
   "cell_type": "code",
   "execution_count": 21,
   "id": "original-municipality",
   "metadata": {},
   "outputs": [
    {
     "data": {
      "text/plain": [
       "[4, 5]"
      ]
     },
     "execution_count": 21,
     "metadata": {},
     "output_type": "execute_result"
    }
   ],
   "source": [
    "intersecRDD.collect()"
   ]
  },
  {
   "cell_type": "markdown",
   "id": "greatest-relations",
   "metadata": {},
   "source": [
    "합집합 - `union`"
   ]
  },
  {
   "cell_type": "code",
   "execution_count": 22,
   "id": "focal-productivity",
   "metadata": {},
   "outputs": [
    {
     "data": {
      "text/plain": [
       "[1, 2, 3, 4, 5, 4, 5, 6, 7, 8, 9, 10]"
      ]
     },
     "execution_count": 22,
     "metadata": {},
     "output_type": "execute_result"
    }
   ],
   "source": [
    "unionRDD = num1.union(num2)\n",
    "unionRDD.collect()"
   ]
  },
  {
   "cell_type": "markdown",
   "id": "gorgeous-malaysia",
   "metadata": {},
   "source": [
    "차집합 - `subtract`"
   ]
  },
  {
   "cell_type": "code",
   "execution_count": 23,
   "id": "suburban-equity",
   "metadata": {},
   "outputs": [
    {
     "data": {
      "text/plain": [
       "[2, 1, 3]"
      ]
     },
     "execution_count": 23,
     "metadata": {},
     "output_type": "execute_result"
    }
   ],
   "source": [
    "subRDD = num1.subtract(num2) # num1 - num2\n",
    "subRDD.collect()"
   ]
  },
  {
   "cell_type": "code",
   "execution_count": 24,
   "id": "existing-polyester",
   "metadata": {},
   "outputs": [
    {
     "data": {
      "text/plain": [
       "[6, 8, 10, 7, 9]"
      ]
     },
     "execution_count": 24,
     "metadata": {},
     "output_type": "execute_result"
    }
   ],
   "source": [
    "num2.subtract(num1).collect() # num2 - num1"
   ]
  },
  {
   "cell_type": "markdown",
   "id": "floral-taiwan",
   "metadata": {},
   "source": [
    "## Wide Transformations\n",
    "* `groupBy(<task>)`\n",
    "    * `task` : 데이터를 묶어주는(Grouping) 기준을 설정"
   ]
  },
  {
   "cell_type": "code",
   "execution_count": 30,
   "id": "comparative-budapest",
   "metadata": {},
   "outputs": [
    {
     "data": {
      "text/plain": [
       "['짜장면',\n",
       " '짬뽕',\n",
       " '마라탕',\n",
       " '떡볶이',\n",
       " '쌀국수',\n",
       " '짬뽕',\n",
       " '짜장면',\n",
       " '짜장면',\n",
       " '짬뽕',\n",
       " '마라탕',\n",
       " '라면',\n",
       " '라면',\n",
       " '우동',\n",
       " '쌀국수',\n",
       " '짬뽕밥',\n",
       " '짬짜면',\n",
       " '볶음밥',\n",
       " '볶짬면']"
      ]
     },
     "execution_count": 30,
     "metadata": {},
     "output_type": "execute_result"
    }
   ],
   "source": [
    "foods = sc.parallelize([\n",
    "    \"짜장면\", \"짬뽕\", \"마라탕\",\n",
    "    \"떡볶이\", \"쌀국수\",\"짬뽕\",\n",
    "    \"짜장면\", \"짜장면\", \"짬뽕\",\n",
    "    \"마라탕\", \"라면\", \"라면\",\n",
    "    \"우동\", \"쌀국수\", \"짬뽕밥\", \"짬짜면\", \"볶음밥\", \"볶짬면\"\n",
    "])\n",
    "foods.collect()"
   ]
  },
  {
   "cell_type": "code",
   "execution_count": 31,
   "id": "necessary-ethiopia",
   "metadata": {},
   "outputs": [
    {
     "data": {
      "text/plain": [
       "['짜장면',\n",
       " '짬뽕',\n",
       " '마라탕',\n",
       " '떡볶이',\n",
       " '쌀국수',\n",
       " '짬뽕',\n",
       " '짜장면',\n",
       " '짜장면',\n",
       " '짬뽕',\n",
       " '마라탕',\n",
       " '라면',\n",
       " '라면',\n",
       " '우동',\n",
       " '쌀국수',\n",
       " '짬뽕밥',\n",
       " '짬짜면',\n",
       " '볶음밥',\n",
       " '볶짬면']"
      ]
     },
     "execution_count": 31,
     "metadata": {},
     "output_type": "execute_result"
    }
   ],
   "source": [
    "foods.collect()"
   ]
  },
  {
   "cell_type": "code",
   "execution_count": 32,
   "id": "weekly-glory",
   "metadata": {},
   "outputs": [
    {
     "data": {
      "text/plain": [
       "PythonRDD[57] at RDD at PythonRDD.scala:53"
      ]
     },
     "execution_count": 32,
     "metadata": {},
     "output_type": "execute_result"
    }
   ],
   "source": [
    "# 그룹핑의 기준을 문자열의 첫 번째 글자로 설정\n",
    "foodsGroup = foods.groupBy(lambda x : x[0])\n",
    "foodsGroup"
   ]
  },
  {
   "cell_type": "code",
   "execution_count": 33,
   "id": "posted-collapse",
   "metadata": {},
   "outputs": [
    {
     "data": {
      "text/plain": [
       "[('짜', <pyspark.resultiterable.ResultIterable at 0x7f0dae319fd0>),\n",
       " ('짬', <pyspark.resultiterable.ResultIterable at 0x7f0dae319710>),\n",
       " ('마', <pyspark.resultiterable.ResultIterable at 0x7f0dae319990>),\n",
       " ('떡', <pyspark.resultiterable.ResultIterable at 0x7f0dae319a90>),\n",
       " ('쌀', <pyspark.resultiterable.ResultIterable at 0x7f0dae319a50>),\n",
       " ('라', <pyspark.resultiterable.ResultIterable at 0x7f0dae319110>),\n",
       " ('우', <pyspark.resultiterable.ResultIterable at 0x7f0dae319b10>),\n",
       " ('볶', <pyspark.resultiterable.ResultIterable at 0x7f0dae319e50>)]"
      ]
     },
     "execution_count": 33,
     "metadata": {},
     "output_type": "execute_result"
    }
   ],
   "source": [
    "result = foodsGroup.collect()\n",
    "result"
   ]
  },
  {
   "cell_type": "code",
   "execution_count": 34,
   "id": "located-pregnancy",
   "metadata": {},
   "outputs": [
    {
     "name": "stdout",
     "output_type": "stream",
     "text": [
      "짜 ['짜장면', '짜장면', '짜장면']\n",
      "짬 ['짬뽕', '짬뽕', '짬뽕', '짬뽕밥', '짬짜면']\n",
      "마 ['마라탕', '마라탕']\n",
      "떡 ['떡볶이']\n",
      "쌀 ['쌀국수', '쌀국수']\n",
      "라 ['라면', '라면']\n",
      "우 ['우동']\n",
      "볶 ['볶음밥', '볶짬면']\n"
     ]
    }
   ],
   "source": [
    "for k, v in result:\n",
    "    print(k, list(v))"
   ]
  },
  {
   "cell_type": "code",
   "execution_count": 35,
   "id": "loved-bicycle",
   "metadata": {},
   "outputs": [],
   "source": [
    "sc.stop()"
   ]
  },
  {
   "cell_type": "code",
   "execution_count": null,
   "id": "lyric-insertion",
   "metadata": {},
   "outputs": [],
   "source": []
  },
  {
   "cell_type": "code",
   "execution_count": null,
   "id": "animated-spelling",
   "metadata": {},
   "outputs": [],
   "source": []
  },
  {
   "cell_type": "code",
   "execution_count": null,
   "id": "patient-medline",
   "metadata": {},
   "outputs": [],
   "source": []
  }
 ],
 "metadata": {
  "kernelspec": {
   "display_name": "Python 3",
   "language": "python",
   "name": "python3"
  },
  "language_info": {
   "codemirror_mode": {
    "name": "ipython",
    "version": 3
   },
   "file_extension": ".py",
   "mimetype": "text/x-python",
   "name": "python",
   "nbconvert_exporter": "python",
   "pygments_lexer": "ipython3",
   "version": "3.7.10"
  }
 },
 "nbformat": 4,
 "nbformat_minor": 5
}
