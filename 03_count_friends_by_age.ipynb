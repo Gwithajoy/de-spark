{
 "cells": [
  {
   "cell_type": "code",
   "execution_count": 1,
   "id": "d9b2eefe",
   "metadata": {},
   "outputs": [
    {
     "name": "stderr",
     "output_type": "stream",
     "text": [
      "22/05/16 00:10:01 WARN Utils: Your hostname, Gleui-MacBookPro.local resolves to a loopback address: 127.0.0.1; using 172.30.1.18 instead (on interface en0)\n",
      "22/05/16 00:10:01 WARN Utils: Set SPARK_LOCAL_IP if you need to bind to another address\n",
      "Using Spark's default log4j profile: org/apache/spark/log4j-defaults.properties\n",
      "Setting default log level to \"WARN\".\n",
      "To adjust logging level use sc.setLogLevel(newLevel). For SparkR, use setLogLevel(newLevel).\n",
      "22/05/16 00:10:02 WARN NativeCodeLoader: Unable to load native-hadoop library for your platform... using builtin-java classes where applicable\n"
     ]
    }
   ],
   "source": [
    "from pyspark import SparkConf, SparkContext\n",
    "\n",
    "conf = SparkConf().setMaster(\"local\").setAppName(\"FriendsByAge\")\n",
    "sc = SparkContext(conf = conf)"
   ]
  },
  {
   "cell_type": "code",
   "execution_count": 2,
   "id": "3b0c9152",
   "metadata": {},
   "outputs": [],
   "source": [
    "filepath ='/Users/glebang/SparkCourse/data/fakefriends.csv'"
   ]
  },
  {
   "cell_type": "code",
   "execution_count": 3,
   "id": "340a4681",
   "metadata": {},
   "outputs": [
    {
     "name": "stderr",
     "output_type": "stream",
     "text": [
      "                                                                                \r"
     ]
    },
    {
     "data": {
      "text/plain": [
       "['0,Will,33,385', '1,Jean-Luc,26,2', '2,Hugh,55,221']"
      ]
     },
     "execution_count": 3,
     "metadata": {},
     "output_type": "execute_result"
    }
   ],
   "source": [
    "lines = sc.textFile(f\"file:///{filepath}\")\n",
    "lines.collect()[:3]"
   ]
  },
  {
   "cell_type": "code",
   "execution_count": 12,
   "id": "708f258b",
   "metadata": {},
   "outputs": [],
   "source": [
    "def parse(lines):\n",
    "    fields= lines.split(',')\n",
    "    age = int(fields[2])\n",
    "    count = int(fields[3])\n",
    "    return age, count"
   ]
  },
  {
   "cell_type": "code",
   "execution_count": 13,
   "id": "c52f92e9",
   "metadata": {},
   "outputs": [
    {
     "data": {
      "text/plain": [
       "[(33, 385), (26, 2), (55, 221), (40, 465), (68, 21)]"
      ]
     },
     "execution_count": 13,
     "metadata": {},
     "output_type": "execute_result"
    }
   ],
   "source": [
    "ageFriendsRDD = lines.map(parse)\n",
    "ageFriendsRDD.collect()[:5]"
   ]
  },
  {
   "cell_type": "code",
   "execution_count": 14,
   "id": "6ead1ad1",
   "metadata": {},
   "outputs": [
    {
     "data": {
      "text/plain": [
       "[(33, 3904), (26, 4115), (55, 3842)]"
      ]
     },
     "execution_count": 14,
     "metadata": {},
     "output_type": "execute_result"
    }
   ],
   "source": [
    "totalFriends = ageFriendsRDD.reduceByKey(lambda x, y : x + y)\n",
    "totalFriends.collect()[:3]"
   ]
  },
  {
   "cell_type": "code",
   "execution_count": 15,
   "id": "583a7748",
   "metadata": {},
   "outputs": [
    {
     "data": {
      "text/plain": [
       "[(33, (385, 1)), (26, (2, 1)), (55, (221, 1)), (40, (465, 1)), (68, (21, 1))]"
      ]
     },
     "execution_count": 15,
     "metadata": {},
     "output_type": "execute_result"
    }
   ],
   "source": [
    "countFriends = ageFriendsRDD.mapValues(lambda x : (x, 1))\n",
    "countFriends.collect()[:5]"
   ]
  },
  {
   "cell_type": "code",
   "execution_count": 16,
   "id": "dd29d919",
   "metadata": {},
   "outputs": [
    {
     "data": {
      "text/plain": [
       "[(33, (3904, 12)),\n",
       " (26, (4115, 17)),\n",
       " (55, (3842, 13)),\n",
       " (40, (4264, 17)),\n",
       " (68, (2696, 10))]"
      ]
     },
     "execution_count": 16,
     "metadata": {},
     "output_type": "execute_result"
    }
   ],
   "source": [
    "totalsByAge = countFriends.reduceByKey(lambda x, y : (x[0] + y[0], x[1] + y[1]))\n",
    "totalsByAge.collect()[:5]"
   ]
  },
  {
   "cell_type": "code",
   "execution_count": 18,
   "id": "14bdc242",
   "metadata": {},
   "outputs": [
    {
     "data": {
      "text/plain": [
       "[(33, 325.3333333333333), (26, 242.05882352941177), (55, 295.53846153846155)]"
      ]
     },
     "execution_count": 18,
     "metadata": {},
     "output_type": "execute_result"
    }
   ],
   "source": [
    "avgFriends = totalsByAge.mapValues(lambda x : x[0] / x[1])\n",
    "avgFriends.collect()[:3]"
   ]
  },
  {
   "cell_type": "code",
   "execution_count": 19,
   "id": "941859fa",
   "metadata": {},
   "outputs": [],
   "source": [
    "sc.stop()"
   ]
  },
  {
   "cell_type": "code",
   "execution_count": null,
   "id": "0ec325d7",
   "metadata": {},
   "outputs": [],
   "source": []
  }
 ],
 "metadata": {
  "kernelspec": {
   "display_name": "Python 3 (ipykernel)",
   "language": "python",
   "name": "python3"
  },
  "language_info": {
   "codemirror_mode": {
    "name": "ipython",
    "version": 3
   },
   "file_extension": ".py",
   "mimetype": "text/x-python",
   "name": "python",
   "nbconvert_exporter": "python",
   "pygments_lexer": "ipython3",
   "version": "3.9.12"
  }
 },
 "nbformat": 4,
 "nbformat_minor": 5
}
