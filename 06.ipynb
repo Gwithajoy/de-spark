{
 "cells": [
  {
   "cell_type": "code",
   "execution_count": 1,
   "id": "liked-merchandise",
   "metadata": {},
   "outputs": [],
   "source": [
    "from pyspark import SparkConf, SparkContext\n",
    "conf = SparkConf().setMaster(\"local\").setAppName(\"key_value_rdd_op_joins\")\n",
    "sc = SparkContext(conf = conf)"
   ]
  },
  {
   "cell_type": "markdown",
   "id": "facial-pharmacology",
   "metadata": {},
   "source": [
    "## Operations"
   ]
  },
  {
   "cell_type": "markdown",
   "id": "published-rubber",
   "metadata": {},
   "source": [
    "### groupByKey\n",
    "* `k_v_RDD.groupByKey(numPartitions=None, partitionFunc=<function portable_hash>)`\n",
    "* 주어지는 key를 기준으로 Group을 만들어 줍니다.\n",
    "* Transformations 함수 입니다."
   ]
  },
  {
   "cell_type": "code",
   "execution_count": 2,
   "id": "liberal-diesel",
   "metadata": {},
   "outputs": [],
   "source": [
    "rdd = sc.parallelize([\n",
    "    (\"짜장면\", 15),\n",
    "    (\"짬뽕\", 10),\n",
    "    (\"짜장면\", 5)\n",
    "])"
   ]
  },
  {
   "cell_type": "code",
   "execution_count": 3,
   "id": "variable-expense",
   "metadata": {},
   "outputs": [
    {
     "data": {
      "text/plain": [
       "[('짜장면', 2), ('짬뽕', 1)]"
      ]
     },
     "execution_count": 3,
     "metadata": {},
     "output_type": "execute_result"
    }
   ],
   "source": [
    "rdd.groupByKey().mapValues(len).collect()"
   ]
  },
  {
   "cell_type": "code",
   "execution_count": 4,
   "id": "careful-cambridge",
   "metadata": {},
   "outputs": [
    {
     "data": {
      "text/plain": [
       "[('짜장면', [15, 5]), ('짬뽕', [10])]"
      ]
     },
     "execution_count": 4,
     "metadata": {},
     "output_type": "execute_result"
    }
   ],
   "source": [
    "rdd.groupByKey().mapValues(list).collect()"
   ]
  },
  {
   "cell_type": "markdown",
   "id": "therapeutic-adapter",
   "metadata": {},
   "source": [
    "`groupBy` VS `groupByKey`"
   ]
  },
  {
   "cell_type": "code",
   "execution_count": 5,
   "id": "engaging-holder",
   "metadata": {},
   "outputs": [
    {
     "data": {
      "text/plain": [
       "[('C', ['C', 'C++', 'C#']), ('P', ['Python']), ('J', ['Java'])]"
      ]
     },
     "execution_count": 5,
     "metadata": {},
     "output_type": "execute_result"
    }
   ],
   "source": [
    "# groupBy는 그룹핑할 키에 대한 정의를 개발자가 직접 해줘야 한다.\n",
    "grouped = sc.parallelize([\n",
    "    \"C\", \"C++\", \"Python\", \"Java\", \"C#\"\n",
    "]).groupBy(lambda x: x[0]).mapValues(list)\n",
    "\n",
    "grouped.collect()"
   ]
  },
  {
   "cell_type": "code",
   "execution_count": 6,
   "id": "august-release",
   "metadata": {},
   "outputs": [],
   "source": [
    "# groupByKey는 K-V RDD를 사용할 때 Key가 알아서 그룹핑의 기준이 된다.\n",
    "x = sc.parallelize([\n",
    "    (\"MATH\", 7), (\"MATH\", 2), (\"ENGLISH\", 7),\n",
    "    (\"SCIENCE\", 7), (\"ENGLISH\", 4), (\"ENGLISH\", 9),\n",
    "    (\"MATH\", 8), (\"MATH\", 3), (\"ENGLISH\", 4),\n",
    "    (\"SCIENCE\", 6), (\"SCIENCE\", 9), (\"SCIENCE\", 5)\n",
    "], 3)\n",
    "\n",
    "y = x.groupByKey()"
   ]
  },
  {
   "cell_type": "code",
   "execution_count": 7,
   "id": "attractive-construction",
   "metadata": {},
   "outputs": [
    {
     "data": {
      "text/plain": [
       "3"
      ]
     },
     "execution_count": 7,
     "metadata": {},
     "output_type": "execute_result"
    }
   ],
   "source": [
    "# 파티션 개수 확인하기\n",
    "y.getNumPartitions()"
   ]
  },
  {
   "cell_type": "code",
   "execution_count": 8,
   "id": "weighted-competition",
   "metadata": {},
   "outputs": [
    {
     "data": {
      "text/plain": [
       "[('MATH', [7, 2, 8, 3]), ('ENGLISH', [7, 4, 9, 4]), ('SCIENCE', [7, 6, 9, 5])]"
      ]
     },
     "execution_count": 8,
     "metadata": {},
     "output_type": "execute_result"
    }
   ],
   "source": [
    "y.mapValues(list).collect()"
   ]
  },
  {
   "cell_type": "markdown",
   "id": "revolutionary-steal",
   "metadata": {},
   "source": [
    "# reduceByKey\n",
    "- `KeyValueRDD.reduceByKey(<task>, numPartitions=None, partitionFunc=<function portable_hash>)`\n",
    "- 주어지는 `key`를 기준으로 `Group`을 만들고 합쳐(`task`대로)줍니다.\n",
    "- Transformations 함수 입니다."
   ]
  },
  {
   "cell_type": "code",
   "execution_count": 9,
   "id": "chronic-lesbian",
   "metadata": {},
   "outputs": [
    {
     "data": {
      "text/plain": [
       "[('짜장면', 20), ('짬뽕', 10)]"
      ]
     },
     "execution_count": 9,
     "metadata": {},
     "output_type": "execute_result"
    }
   ],
   "source": [
    "from operator import add\n",
    "\n",
    "rdd = sc.parallelize([\n",
    "    (\"짜장면\", 15),\n",
    "    (\"짬뽕\", 10),\n",
    "    (\"짜장면\", 5)\n",
    "])\n",
    "\n",
    "rdd.reduceByKey(add).collect()"
   ]
  },
  {
   "cell_type": "markdown",
   "id": "double-cardiff",
   "metadata": {},
   "source": [
    "개념적으로는 `groupByKey` + `reduce` 입니다."
   ]
  },
  {
   "cell_type": "markdown",
   "id": "mental-verification",
   "metadata": {},
   "source": [
    "# mapValues\n",
    "- `KeyValueRDD.mapValues(<task>)`\n",
    "- 함수를 `Value`에만 적용합니다.\n",
    "    - 파티션과 키는 그 위치에 그대로 있습니다.\n",
    "- `Transformations`"
   ]
  },
  {
   "cell_type": "code",
   "execution_count": 10,
   "id": "harmful-cemetery",
   "metadata": {},
   "outputs": [
    {
     "data": {
      "text/plain": [
       "[('하의', 3), ('상의', 4)]"
      ]
     },
     "execution_count": 10,
     "metadata": {},
     "output_type": "execute_result"
    }
   ],
   "source": [
    "rdd = sc.parallelize([\n",
    "    (\"하의\", [\"청바지\", \"반바지\", \"치마\"]),\n",
    "    (\"상의\", [\"니트\", \"반팔\", \"긴팔\", \"나시\"])\n",
    "])\n",
    "\n",
    "rdd.mapValues(len).collect()"
   ]
  },
  {
   "cell_type": "markdown",
   "id": "connected-mexican",
   "metadata": {},
   "source": [
    "# countByKey\n",
    "- `KeyValueRDD.countByKey(<task>)`\n",
    "- 각 키가 가진 요소들의 개수를 센다.\n",
    "- `Action`"
   ]
  },
  {
   "cell_type": "code",
   "execution_count": 13,
   "id": "grateful-charity",
   "metadata": {},
   "outputs": [
    {
     "data": {
      "text/plain": [
       "defaultdict(int, {'하의': 1, '상의': 1})"
      ]
     },
     "execution_count": 13,
     "metadata": {},
     "output_type": "execute_result"
    }
   ],
   "source": [
    "rdd.countByKey()"
   ]
  },
  {
   "cell_type": "markdown",
   "id": "muslim-cleanup",
   "metadata": {},
   "source": [
    "# keys()\n",
    "- 모든 key를 가진 RDD를 생성합니다.\n",
    "- `keys()`는 파티션을 유지하거나 키가 굉장히 많은 경우가 있기 때문에 Transformations 입니다."
   ]
  },
  {
   "cell_type": "code",
   "execution_count": 14,
   "id": "conservative-optimum",
   "metadata": {},
   "outputs": [
    {
     "data": {
      "text/plain": [
       "PythonRDD[35] at RDD at PythonRDD.scala:53"
      ]
     },
     "execution_count": 14,
     "metadata": {},
     "output_type": "execute_result"
    }
   ],
   "source": [
    "rdd.keys()"
   ]
  },
  {
   "cell_type": "code",
   "execution_count": 15,
   "id": "vocal-volunteer",
   "metadata": {},
   "outputs": [
    {
     "data": {
      "text/plain": [
       "['하의', '상의']"
      ]
     },
     "execution_count": 15,
     "metadata": {},
     "output_type": "execute_result"
    }
   ],
   "source": [
    "rdd.keys().collect()"
   ]
  },
  {
   "cell_type": "code",
   "execution_count": 17,
   "id": "furnished-assurance",
   "metadata": {},
   "outputs": [
    {
     "name": "stdout",
     "output_type": "stream",
     "text": [
      "12\n",
      "3\n"
     ]
    }
   ],
   "source": [
    "x = sc.parallelize([\n",
    "    (\"MATH\", 7), (\"MATH\", 2), (\"ENGLISH\", 7),\n",
    "    (\"SCIENCE\", 7), (\"ENGLISH\", 4), (\"ENGLISH\", 9),\n",
    "    (\"MATH\", 8), (\"MATH\", 3), (\"ENGLISH\", 4),\n",
    "    (\"SCIENCE\", 6), (\"SCIENCE\", 9), (\"SCIENCE\", 5)\n",
    "], 3)\n",
    "\n",
    "print(x.keys().count())\n",
    "print(x.keys().distinct().count())"
   ]
  },
  {
   "cell_type": "markdown",
   "id": "printable-explanation",
   "metadata": {},
   "source": [
    "# Joins\n",
    "- `Inner Join` : 서로간에 존재하는 키만 합쳐준다.\n",
    "- `Outer Join` : 기준이 되는 한 쪽에는 데이터가 있고, 다른 쪽에는 데이터가 없는 경우\n",
    "    - 설정한 기준에 따라서 기준에 맞는 데이터가 항상 남아있는다.\n",
    "    - `leftOuterJoin` : 왼쪽에 있는 rdd가 기준이 된다.( 함수를 호출 하는 쪽 )\n",
    "    - `rightOuterJoin` : 오른쪽에 있는 rdd가 기준이 된다. ( 함수에 매개변수로 들어가는 쪽 )"
   ]
  },
  {
   "cell_type": "code",
   "execution_count": 18,
   "id": "sized-denmark",
   "metadata": {},
   "outputs": [],
   "source": [
    "rdd1 = sc.parallelize([\n",
    "    (\"foo\", 1),\n",
    "    (\"goo\", 2),\n",
    "    (\"hoo\", 3)\n",
    "])\n",
    "\n",
    "rdd2 = sc.parallelize([\n",
    "    (\"foo\", 1),\n",
    "    (\"goo\", 2),\n",
    "    (\"goo\", 10),\n",
    "    (\"moo\", 6)\n",
    "])"
   ]
  },
  {
   "cell_type": "code",
   "execution_count": 19,
   "id": "destroyed-sheriff",
   "metadata": {},
   "outputs": [
    {
     "data": {
      "text/plain": [
       "[('foo', (1, 1)), ('goo', (2, 2)), ('goo', (2, 10))]"
      ]
     },
     "execution_count": 19,
     "metadata": {},
     "output_type": "execute_result"
    }
   ],
   "source": [
    "# Inner Join\n",
    "rdd1.join(rdd2).collect()"
   ]
  },
  {
   "cell_type": "code",
   "execution_count": 20,
   "id": "fitted-punishment",
   "metadata": {},
   "outputs": [
    {
     "data": {
      "text/plain": [
       "[('foo', (1, 1)), ('goo', (2, 2)), ('goo', (2, 10)), ('hoo', (3, None))]"
      ]
     },
     "execution_count": 20,
     "metadata": {},
     "output_type": "execute_result"
    }
   ],
   "source": [
    "# Left Outer Join\n",
    "rdd1.leftOuterJoin(rdd2).collect()"
   ]
  },
  {
   "cell_type": "code",
   "execution_count": 21,
   "id": "pediatric-layer",
   "metadata": {},
   "outputs": [
    {
     "data": {
      "text/plain": [
       "[('foo', (1, 1)), ('moo', (None, 6)), ('goo', (2, 2)), ('goo', (2, 10))]"
      ]
     },
     "execution_count": 21,
     "metadata": {},
     "output_type": "execute_result"
    }
   ],
   "source": [
    "# Right Outer Join\n",
    "rdd1.rightOuterJoin(rdd2).collect()"
   ]
  },
  {
   "cell_type": "code",
   "execution_count": 22,
   "id": "sublime-validation",
   "metadata": {},
   "outputs": [],
   "source": [
    "sc.stop()"
   ]
  }
 ],
 "metadata": {
  "kernelspec": {
   "display_name": "Python 3",
   "language": "python",
   "name": "python3"
  },
  "language_info": {
   "codemirror_mode": {
    "name": "ipython",
    "version": 3
   },
   "file_extension": ".py",
   "mimetype": "text/x-python",
   "name": "python",
   "nbconvert_exporter": "python",
   "pygments_lexer": "ipython3",
   "version": "3.7.10"
  }
 },
 "nbformat": 4,
 "nbformat_minor": 5
}
